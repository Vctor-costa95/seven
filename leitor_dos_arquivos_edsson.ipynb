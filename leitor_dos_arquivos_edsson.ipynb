{
 "cells": [
  {
   "cell_type": "code",
   "execution_count": 9,
   "metadata": {},
   "outputs": [],
   "source": [
    "#pastas colocadas e que funcionam:\n",
    "#seguenotasfiscais2quinzenadedezembropnz funcionando<<\n",
    "#n_f52transf_jpajabjpa (deve funcionar mas só 1 file)\n",
    "#n_fs1718jaymejosedelimajunio (deve funcionar mas só 2 file)\n",
    "#nfs_henrique_roberval_josrogrio funcionando<<\n",
    "#nfs_jarbiana não_funcionando <<<<<<<<MAS TA LENDO>>>>>>>>\n",
    "#nfsref2quinzenadezembro2023 tem que ser feito com o leitor de imagem\n",
    "#ren_fs535455e56edvaldodesouzasilvajunior funcionando <<<"
   ]
  },
  {
   "cell_type": "code",
   "execution_count": 45,
   "metadata": {},
   "outputs": [],
   "source": [
    "import os\n",
    "import csv  \n",
    "import pdfplumber\n",
    "import pandas as pd"
   ]
  },
  {
   "cell_type": "markdown",
   "metadata": {},
   "source": [
    "essencialmente só colocar o dir da pasta na função que ele faz um csv com a informação"
   ]
  },
  {
   "cell_type": "code",
   "execution_count": 66,
   "metadata": {},
   "outputs": [],
   "source": [
    "def leitor(dir):\n",
    "    import os\n",
    "    import csv  \n",
    "    import pdfplumber\n",
    "    import pandas as pd\n",
    "    \n",
    "    csv_file_path = dir + '/pdf_analise.csv'\n",
    "    colunas = ('chave','cnpj_prestador','cnpj_tomador','valor_servico','numero_nota','data','email_tomador','email_prestador','empresa_tomador','empresa_prestador','codigo_tributacao','IRRF,CP,CSLL')            \n",
    "    with open(csv_file_path,'w',newline='') as f:\n",
    "        csv_writer = csv.writer(f)\n",
    "        csv_writer.writerow(colunas)\n",
    "    try:   \n",
    "        fileExt = r\".pdf\"\n",
    "        files = os.listdir(dir)\n",
    "        pdf_files = [arq for arq in files if arq.lower().endswith('.pdf')]\n",
    "        for pdf_file in pdf_files:\n",
    "            with pdfplumber.open(f\"{dir}/{pdf_file}\") as pdf:\n",
    "                text = \"\"\n",
    "                for page in pdf.pages:\n",
    "                    text += page.extract_text()\n",
    "                    a = text\n",
    "                    lines = a.split('\\n')\n",
    "                    cda=False\n",
    "                    tds=False\n",
    "                    vds=False\n",
    "                    nfs=False\n",
    "                    ne=False\n",
    "                    em=0\n",
    "                    cdt=False\n",
    "                    counter=0\n",
    "                    p_irff = False\n",
    "                    for line in lines:\n",
    "                        if p_irff == True:\n",
    "                            irrf = line.split(' ')[0]\n",
    "                            p_irff = False\n",
    "                        if cdt==True:\n",
    "                            counter=counter+1\n",
    "                            if counter==1:\n",
    "                                codigo_tributacao=line.split(' ')[0].split('-')[0]\n",
    "                                desc1=line.split(' ')[1]\n",
    "                                \n",
    "                            if counter==2:\n",
    "                                desc2=line.split(' ')[0]\n",
    "                                desc=desc1+desc2\n",
    "                                cdt=False\n",
    "                            cdt=cdt+1\n",
    "                            \n",
    "                        if ne==True:\n",
    "                            if em == 0:\n",
    "                                email_prestador=line.split(' ')[1]\n",
    "                                empresa_tomador = line.split('-')[0]\n",
    "                                em =1\n",
    "                            email_tomador=line.split(' ')[1]\n",
    "                            empresa_prestador = line.split(' ')[0]\n",
    "                            ne=False\n",
    "                        if nfs == True:\n",
    "                            numero_nota= line.split(' ')[0]\n",
    "                            data = line.split(' ')[1]\n",
    "                            nfs=False\n",
    "                        if vds == True:\n",
    "                            valor_servico=line.split(' ')[0]\n",
    "                            vds=False\n",
    "                        if tds== True:\n",
    "                            cnpj_tomador = line.split(' ')[0]\n",
    "                            tds = False\n",
    "                        if cda == True:\n",
    "                            chave = line.replace(' ','')[0:44]\n",
    "                            cda=False\n",
    "                        if 'ChavedeAcessodaNFS' in line:\n",
    "                            cda=True\n",
    "                        \n",
    "                        if 'PrestadordoServiço' in line:\n",
    "                            cnpj_prestador = line.split(' ')[1]\n",
    "                        if 'TOMADORDOSERVIÇO' in line:\n",
    "                            tds=True\n",
    "                            \n",
    "                        if 'ValordoServiço' in line:\n",
    "                            vds=True\n",
    "                            \n",
    "                        if 'NúmerodaNFS' in line:\n",
    "                            nfs=True\n",
    "                            \n",
    "                        if 'Nome/NomeEmpresarial' in line:\n",
    "                            ne=True\n",
    "                            \n",
    "                        if 'CódigodeTributaçãoNacional' in line:\n",
    "                            cdt=True\n",
    "                            \n",
    "                        if 'IRRF,CP,CSLL' in line:\n",
    "                            p_irff=True\n",
    "                    with open(csv_file_path, mode='a', encoding= 'utf8',newline='') as resultado_pesquisa:\n",
    "                        writer = csv.writer(resultado_pesquisa)\n",
    "                        linhas = (chave,cnpj_prestador,cnpj_tomador,valor_servico,numero_nota,data,email_tomador,email_prestador,empresa_tomador,empresa_prestador,codigo_tributacao,irrf)\n",
    "                        writer.writerow(linhas)\n",
    "                    print(f'{pdf_file} lido com sucesso!')\n",
    "                    df = pd.read_csv(csv_file_path)\n",
    "                    df.to_excel(f'{csv_file_path}.xlsx')\n",
    "    except:\n",
    "        print('não foi possível ler todos os dados')\n",
    "            \n",
    "                #(r\"C:/Users/jvict/Documents/seven/seven/seguenotasfiscais2quinzenadedezembropnz/LAZARO SEGUNDA QUINZENA DE DEZEMBRO SABADO.pdf\")\n",
    "            #numero do documento,série,data,situação(0-regular/2-cancelada),valor serviços,valor descontos,\n",
    "            #valor contabil,base de calculo,aliquota ISS,valor ISS normal,valor irrf,valor pis,valor cofins,valor csll,\n",
    "            # valor crf, valor inss\n"
   ]
  },
  {
   "cell_type": "code",
   "execution_count": 67,
   "metadata": {},
   "outputs": [
    {
     "name": "stdout",
     "output_type": "stream",
     "text": [
      "BERNEVLDO SEGUND AQUINZENA DE DEZEMBRO.pdf lido com sucesso!\n",
      "DANIEL SEGUNDA QUINZENA DE DEZEMBRO MIOLO.pdf lido com sucesso!\n",
      "DANIEL SEGUNDA QUINZENA SEMANAL DEZEMBRO.pdf lido com sucesso!\n",
      "DANIEL SEGUNDA QUINZENA SEMANAL DEZEMBRO_1.pdf lido com sucesso!\n",
      "LAZARO SEGUNDA QUINZENA DE DEZEMBRO SABADO.pdf lido com sucesso!\n",
      "LAZARO SEGUNDA QUINZENA DE DEZEMBRO SEMANAL.pdf lido com sucesso!\n",
      "LAZRO SEGNDA QUINZENA DESEMBRO MIOLO.pdf lido com sucesso!\n",
      "MARCOS JOSE COELHO 2 QUINZENA DE DEZEMBRO.pdf lido com sucesso!\n",
      "MARIA SAMARA SEGUNDA QUINZENA DE DEZEMBRO.pdf lido com sucesso!\n",
      "nota progresso jose machado dezembro.pdf lido com sucesso!\n",
      "nota_708968 alarme janiero.pdf lido com sucesso!\n",
      "nota_758460 (NFSe) alrme janeiro.pdf lido com sucesso!\n"
     ]
    }
   ],
   "source": [
    "leitor(r\"C:\\Users\\jvict\\Documents\\seven\\seven\\seguenotasfiscais2quinzenadedezembropnz\")"
   ]
  },
  {
   "cell_type": "code",
   "execution_count": 129,
   "metadata": {},
   "outputs": [],
   "source": [
    "fileExt = r\".pdf\"\n",
    "dir = r\"C:\\Users\\jvict\\Documents\\seven\\seven\\seguenotasfiscais2quinzenadedezembropnz\"\n",
    "files = os.listdir(dir)\n",
    "pdf_files = [arq for arq in files if arq.lower().endswith('.pdf')]\n",
    "for pdf_file in pdf_files:\n",
    "    with open('extração_de_dados.csv','w') as fp:\n",
    "        fp.write('cnpj_prestador,razao_social,uf_serv,endereco,n_nota,serie,data,VALOR_SERVIÇO ,DESCONTO_INCONDICIONAL,VALOR_SERVIÇO,DEDUÇÕES,VALOR_CONTÁBIL,BASE_CÁLCULO,ALIQUOTA_ISS,ISS,PIS,COFINS,CSLL,INSS\\n')\n",
    "    with pdfplumber.open(f'{dir}') as pdf:\n",
    "                text = \"\"\n",
    "                cnpj_prestador = 0\n",
    "                naprox = False\n",
    "                csll_prox = False\n",
    "                ded_prox = False\n",
    "                end = 0\n",
    "                rs=0\n",
    "                uf=False\n",
    "                serie = '-'\n",
    "                CRF = '-'\n",
    "                for page in pdf.pages:\n",
    "                    text += page.extract_text()\n",
    "                    a = text\n",
    "                    lines = a.split('\\n')\n",
    "                    for line in lines: \n",
    "                        if 'NOTA FISCAL DE SERVIÇOS ELETRÔNICA - NFSe' == lines[0]:\n",
    "                            if uf==True:\n",
    "                                uf_serv=line.split('-')[1]\n",
    "                                uf=False\n",
    "                            if ded_prox == True:\n",
    "                                VALOR_SERVIÇO = line.split(' ')[0].replace(',','.')\n",
    "                                DEDUÇÕES = line.split(' ')[1].replace(',','.')\n",
    "                                DESCONTO_INCONDICIONAL = line.split(' ')[2].replace(',','.')\n",
    "                                BASE_CÁLCULO = line.split(' ')[3].replace(',','.')\n",
    "                                \n",
    "                                \n",
    "                                ALIQUOTA_ISS = line.split(' ')[4].replace(',','.')\n",
    "                                ISS = line.split(' ')[5].replace(',','.')\n",
    "                                ded_prox = False\n",
    "                            if csll_prox == True:\n",
    "                                INSS = line.split(' ')[0].replace(',','.')\n",
    "                                IR = line.split(' ')[1].replace(',','.')\n",
    "                                CSLL = line.split(' ')[2].replace(',','.')\n",
    "                                COFINS = line.split(' ')[3].replace(',','.')\n",
    "                                PIS = line.split(' ')[4].replace(',','.')\n",
    "                                csll_prox = False\n",
    "                            if naprox == True:\n",
    "                                n_nota = line.split(' ')[0]\n",
    "                                naprox=False\n",
    "                            if 'CPF/CNPJ:' in line:\n",
    "                                cnpj_tomador = line.split(' ')[-1]\n",
    "                                if cnpj_prestador == 0:\n",
    "                                    cnpj_prestador = line.split(' ')[-1]\n",
    "                            if 'Emitido em' in line:\n",
    "                                data = line.split(' ')[2] \n",
    "                            if 'Exigível Tributacao Normal' in line:\n",
    "                                naprox=True\n",
    "                            if 'CSLL (R$)' in line:\n",
    "                                csll_prox = True\n",
    "                                \n",
    "                            if 'DEDUÇÕES' in line:\n",
    "                                ded_prox = True\n",
    "                            \n",
    "                            if 'Endereço:' in line:\n",
    "                                end = end+1\n",
    "                                if end ==2:\n",
    "                                    endereco=line.split(':')[1].replace(',','')\n",
    "                                    uf=True\n",
    "                                    \n",
    "                            if 'Razão Social:' in line:\n",
    "                                rs=rs+1\n",
    "                                if rs==1:\n",
    "                                    razao_social=line.split(':')[1]\n",
    "                    dados = cnpj_prestador,razao_social,uf_serv,endereco,n_nota,serie,data,VALOR_SERVIÇO ,DESCONTO_INCONDICIONAL,VALOR_SERVIÇO,DEDUÇÕES,VALOR_SERVIÇO,BASE_CÁLCULO,ALIQUOTA_ISS,ISS,PIS,COFINS,CSLL,INSS\n",
    "                    dados=str(dados)\n",
    "                    with open('extração_de_dados.csv','a') as fp:\n",
    "                        fp.write(f'{dados}\\n')\n",
    "                    print('lido com sucesso')\n",
    "                "
   ]
  },
  {
   "cell_type": "markdown",
   "metadata": {},
   "source": [
    "teste"
   ]
  },
  {
   "cell_type": "code",
   "execution_count": 130,
   "metadata": {},
   "outputs": [
    {
     "name": "stdout",
     "output_type": "stream",
     "text": [
      "nao akjskasj\n",
      "nao akjskasj\n",
      "nao akjskasj\n",
      "nao akjskasj\n",
      "('24.254.072/0001-23', ' LAZARO JOEDSON MOURA SILVA', ' PE ', ' Rua NUCLEO RURAL PSNC - N7 115 LETRA D - ZONA RURAL', '119', '-', '02/01/2024', '300.00', '0.00', '300.00', '0.00', '300.00', '300.00', '2.00', '6.00', '0.00', '0.00', '0.00', '0.00')\n",
      "LAZARO SEGUNDA QUINZENA DE DEZEMBRO SABADO.pdf lido com sucesso!\n",
      "nao akjskasj\n",
      "('24.254.072/0001-23', ' LAZARO JOEDSON MOURA SILVA', ' PE ', ' Rua NUCLEO RURAL PSNC - N7 115 LETRA D - ZONA RURAL', '118', '-', '02/01/2024', '2.400.00', '0.00', '2.400.00', '0.00', '2.400.00', '2.400.00', '2.00', '48.00', '0.00', '0.00', '0.00', '0.00')\n",
      "LAZARO SEGUNDA QUINZENA DE DEZEMBRO SEMANAL.pdf lido com sucesso!\n",
      "nao akjskasj\n",
      "('24.254.072/0001-23', ' LAZARO JOEDSON MOURA SILVA', ' PE ', ' Rua NUCLEO RURAL PSNC - N7 115 LETRA D - ZONA RURAL', '120', '-', '02/01/2024', '360.00', '0.00', '360.00', '0.00', '360.00', '360.00', '2.00', '7.20', '0.00', '0.00', '0.00', '0.00')\n",
      "LAZRO SEGNDA QUINZENA DESEMBRO MIOLO.pdf lido com sucesso!\n",
      "nao akjskasj\n",
      "(0, ' LAZARO JOEDSON MOURA SILVA', ' PE ', ' Rua NUCLEO RURAL PSNC - N7 115 LETRA D - ZONA RURAL', '120', '-', '02/01/2024', '360.00', '0.00', '360.00', '0.00', '360.00', '360.00', '2.00', '7.20', '0.00', '0.00', '0.00', '0.00')\n",
      "MARCOS JOSE COELHO 2 QUINZENA DE DEZEMBRO.pdf lido com sucesso!\n",
      "nao akjskasj\n",
      "(0, ' LAZARO JOEDSON MOURA SILVA', ' PE ', ' Rua NUCLEO RURAL PSNC - N7 115 LETRA D - ZONA RURAL', '120', '-', '02/01/2024', '360.00', '0.00', '360.00', '0.00', '360.00', '360.00', '2.00', '7.20', '0.00', '0.00', '0.00', '0.00')\n",
      "MARIA SAMARA SEGUNDA QUINZENA DE DEZEMBRO.pdf lido com sucesso!\n",
      "nao akjskasj\n",
      "(0, ' LAZARO JOEDSON MOURA SILVA', ' PE ', ' Rua NUCLEO RURAL PSNC - N7 115 LETRA D - ZONA RURAL', '120', '-', '02/01/2024', '360.00', '0.00', '360.00', '0.00', '360.00', '360.00', '2.00', '7.20', '0.00', '0.00', '0.00', '0.00')\n",
      "nota progresso jose machado dezembro.pdf lido com sucesso!\n",
      "nao akjskasj\n",
      "(0, ' LAZARO JOEDSON MOURA SILVA', ' PE ', ' Rua NUCLEO RURAL PSNC - N7 115 LETRA D - ZONA RURAL', '120', '-', '02/01/2024', '360.00', '0.00', '360.00', '0.00', '360.00', '360.00', '2.00', '7.20', '0.00', '0.00', '0.00', '0.00')\n",
      "nota_708968 alarme janiero.pdf lido com sucesso!\n",
      "nao akjskasj\n",
      "(0, ' LAZARO JOEDSON MOURA SILVA', ' PE ', ' Rua NUCLEO RURAL PSNC - N7 115 LETRA D - ZONA RURAL', '120', '-', '02/01/2024', '360.00', '0.00', '360.00', '0.00', '360.00', '360.00', '2.00', '7.20', '0.00', '0.00', '0.00', '0.00')\n",
      "nota_758460 (NFSe) alrme janeiro.pdf lido com sucesso!\n",
      "nao akjskasj\n"
     ]
    }
   ],
   "source": [
    "ExtratordeInfo2(r\"C:\\Users\\jvict\\Documents\\seven\\seven\\seguenotasfiscais2quinzenadedezembropnz\")"
   ]
  },
  {
   "cell_type": "code",
   "execution_count": 91,
   "metadata": {},
   "outputs": [],
   "source": [
    "def ExtratordeInfo(dir):\n",
    "    import os\n",
    "    import csv  \n",
    "    import pdfplumber\n",
    "    import pandas as pd\n",
    "    \n",
    "    with open('extração_de_dados.csv','w') as fp:\n",
    "        fp.write('cnpj_prestador,razao_social,uf_serv,endereco,n_nota,serie,data,VALOR_SERVIÇO ,DESCONTO_INCONDICIONAL,VALOR_SERVIÇO,DEDUÇÕES,VALOR_CONTÁBIL,BASE_CÁLCULO,ALIQUOTA_ISS,ISS,PIS,COFINS,CSLL,INSS\\n')\n",
    "    with pdfplumber.open(dir) as pdf:\n",
    "                text = \"\"\n",
    "                cnpj_prestador = 0\n",
    "                naprox = False\n",
    "                csll_prox = False\n",
    "                ded_prox = False\n",
    "                end = 0\n",
    "                rs=0\n",
    "                uf=False\n",
    "                serie = '-'\n",
    "                CRF = '-'\n",
    "                for page in pdf.pages:\n",
    "                    text += page.extract_text()\n",
    "                    a = text\n",
    "                    lines = a.split('\\n')\n",
    "                    for line in lines: \n",
    "                        if 'NOTA FISCAL DE SERVIÇOS ELETRÔNICA - NFSe' == lines[0]:\n",
    "                            if uf==True:\n",
    "                                uf_serv=line.split('-')[1]\n",
    "                                uf=False\n",
    "                            if ded_prox == True:\n",
    "                                VALOR_SERVIÇO = line.split(' ')[0].replace(',','.')\n",
    "                                DEDUÇÕES = line.split(' ')[1].replace(',','.')\n",
    "                                DESCONTO_INCONDICIONAL = line.split(' ')[2].replace(',','.')\n",
    "                                BASE_CÁLCULO = line.split(' ')[3].replace(',','.')\n",
    "                                \n",
    "                                \n",
    "                                ALIQUOTA_ISS = line.split(' ')[4].replace(',','.')\n",
    "                                ISS = line.split(' ')[5].replace(',','.')\n",
    "                                ded_prox = False\n",
    "                            if csll_prox == True:\n",
    "                                INSS = line.split(' ')[0].replace(',','.')\n",
    "                                IR = line.split(' ')[1].replace(',','.')\n",
    "                                CSLL = line.split(' ')[2].replace(',','.')\n",
    "                                COFINS = line.split(' ')[3].replace(',','.')\n",
    "                                PIS = line.split(' ')[4].replace(',','.')\n",
    "                                csll_prox = False\n",
    "                            if naprox == True:\n",
    "                                n_nota = line.split(' ')[0]\n",
    "                                naprox=False\n",
    "                            if 'CPF/CNPJ:' in line:\n",
    "                                cnpj_tomador = line.split(' ')[-1]\n",
    "                                if cnpj_prestador == 0:\n",
    "                                    cnpj_prestador = line.split(' ')[-1]\n",
    "                            if 'Emitido em' in line:\n",
    "                                data = line.split(' ')[2] \n",
    "                            if 'Exigível Tributacao Normal' in line:\n",
    "                                naprox=True\n",
    "                            if 'CSLL (R$)' in line:\n",
    "                                csll_prox = True\n",
    "                                \n",
    "                            if 'DEDUÇÕES' in line:\n",
    "                                ded_prox = True\n",
    "                            \n",
    "                            if 'Endereço:' in line:\n",
    "                                end = end+1\n",
    "                                if end ==2:\n",
    "                                    endereco=line.split(':')[1].replace(',','')\n",
    "                                    uf=True\n",
    "                                    \n",
    "                            if 'Razão Social:' in line:\n",
    "                                rs=rs+1\n",
    "                                if rs==1:\n",
    "                                    razao_social=line.split(':')[1]\n",
    "                    dados = cnpj_prestador,razao_social,uf_serv,endereco,n_nota,serie,data,VALOR_SERVIÇO ,DESCONTO_INCONDICIONAL,VALOR_SERVIÇO,DEDUÇÕES,VALOR_SERVIÇO,BASE_CÁLCULO,ALIQUOTA_ISS,ISS,PIS,COFINS,CSLL,INSS\n",
    "                    dados=str(dados)\n",
    "                    with open('extração_de_dados.csv','a') as fp:\n",
    "                        fp.write(f'{dados}\\n')\n",
    "                    print('lido com sucesso')\n",
    "                "
   ]
  },
  {
   "cell_type": "code",
   "execution_count": 92,
   "metadata": {},
   "outputs": [
    {
     "name": "stdout",
     "output_type": "stream",
     "text": [
      "lido com sucesso\n"
     ]
    }
   ],
   "source": [
    "ExtratordeInfo(r\"C:\\Users\\jvict\\Documents\\seven\\seven\\seguenotasfiscais2quinzenadedezembropnz\\LAZARO SEGUNDA QUINZENA DE DEZEMBRO SABADO.pdf\")"
   ]
  },
  {
   "cell_type": "markdown",
   "metadata": {},
   "source": [
    "esse funciona"
   ]
  },
  {
   "cell_type": "code",
   "execution_count": 33,
   "metadata": {},
   "outputs": [
    {
     "name": "stdout",
     "output_type": "stream",
     "text": [
      "16.693.500/0001-96 VFS SISTEMA ELETRONICO DE ALARME LTDA PE RECIFE RUA IRENE RAMOS GOMES DE MATTOS 708968 0 01/01/2024 0 143,00  0,00  143,00  0,00   0,00   0,00   0,00  0,00   0,00   0,00   0,00 \n"
     ]
    }
   ],
   "source": [
    "import pdfplumber\n",
    "cont = 0\n",
    "with pdfplumber.open(r\"C:\\Users\\jvict\\Documents\\seven\\seven\\seguenotasfiscais2quinzenadedezembropnz\\nota_708968 alarme janiero.pdf\") as pdf:\n",
    "            for page in pdf.pages:\n",
    "                text += page.extract_text()\n",
    "                a = text\n",
    "                cnpj = 0\n",
    "                razao = 0\n",
    "                endereco=0\n",
    "                uf = 0\n",
    "                serie = 0\n",
    "                situacao = 0\n",
    "                descontos = 0\n",
    "                prox = False\n",
    "                prox1 = 0\n",
    "                rpt = False\n",
    "                lines = a.split('\\n')\n",
    "                for line in lines: \n",
    "                    #print(line)\n",
    "                    if lines[0][0:4] == 'N° :':\n",
    "                        if rpt == True:\n",
    "                            COFINS = line.split(\"R$\")[1]\n",
    "                            CSLL =line.split(\"R$\")[2]\n",
    "                            INSS =line.split(\"R$\")[3]\n",
    "                            IRPJ =line.split(\"R$\")[4]\n",
    "                            PIS =line.split(\"R$\")[5]\n",
    "                            rpt = False\n",
    "                        if prox == True:\n",
    "                            if prox1 == 0:\n",
    "                                deducoes = line.split(\"R$\")[1]\n",
    "                                Base_calculo =line.split(\"R$\")[2]\n",
    "                                aliquota =line.split(\"R$\")[3]\n",
    "                                ISS =line.split(\"R$\")[4]\n",
    "                                prox1 = prox+1\n",
    "                            prox=False\n",
    "                        n_nota = lines[0].split(' ')[2].strip()\n",
    "                        if 'CPF/CNPJ:' in line:\n",
    "                            if cnpj == 0:\n",
    "                                cnpj = line.split(':')[1].strip()\n",
    "                        if 'Nome/Razão Social' in line:\n",
    "                            if razao == 0:\n",
    "                                razao = line.split(':')[1].strip()\n",
    "                        if 'Endereço:' in line:\n",
    "                            if endereco == 0:\n",
    "                                endereco = line.split(':')[1].split(',')[0].strip().replace(':','')\n",
    "                        if 'UF:' in line:\n",
    "                            if uf ==0:\n",
    "                                uf = line.split(' ')[3]\n",
    "                                municipio = line.split(' ')[1]\n",
    "                        if 'Data emissão:' in line:\n",
    "                            data = line.split(' ')[2]\n",
    "                        if 'VALOR R$ ' in line:\n",
    "                            VALOR_SERVIÇO = line.split(' ')[3]\n",
    "                        if 'Valor Total das Deduções' in line:\n",
    "                            prox = True\n",
    "                        if 'COFINS CSLL INSS IRPJ PIS' in line:\n",
    "                            rpt = True  \n",
    "                print(cnpj,razao,uf,municipio,endereco,n_nota,serie,data,serie,VALOR_SERVIÇO ,deducoes,VALOR_SERVIÇO,Base_calculo,aliquota,ISS,PIS,COFINS,CSLL,IRPJ,INSS)\n",
    "                        "
   ]
  },
  {
   "cell_type": "code",
   "execution_count": 12,
   "metadata": {},
   "outputs": [
    {
     "name": "stdout",
     "output_type": "stream",
     "text": [
      "nfs-e_16 Evandro Pereira.pdf lido com sucesso!\n",
      "PROCEDIMENTO LANÇAMENTO VFS SISTEMAS.pdf lido com sucesso!\n",
      "PROCEDIMENTO LANÇAMENTO VFS SISTEMAS.pdf lido com sucesso!\n",
      "PROCEDIMENTO LANÇAMENTO VFS SISTEMAS.pdf lido com sucesso!\n",
      "PROCEDIMENTO LANÇAMENTO VFS SISTEMAS.pdf lido com sucesso!\n",
      "[05230009004019]LOJA87EQUATORIAL.PDF lido com sucesso!\n",
      "[05230009005333]LOJA93ENERGISA.pdf lido com sucesso!\n",
      "[05230009005333]LOJA93ENERGISA.pdf lido com sucesso!\n"
     ]
    }
   ],
   "source": [
    "leitor(r\"C:\\Users\\jvict\\Documents\\seven\\seven\")"
   ]
  },
  {
   "cell_type": "code",
   "execution_count": 1,
   "metadata": {},
   "outputs": [],
   "source": [
    "from extrator_info import *"
   ]
  },
  {
   "cell_type": "code",
   "execution_count": 2,
   "metadata": {},
   "outputs": [
    {
     "name": "stdout",
     "output_type": "stream",
     "text": [
      "Não foi possível ler o arquivo\n",
      "Não foi possível ler o arquivo\n",
      "Não foi possível ler o arquivo\n",
      "Não foi possível ler o arquivo\n",
      "lido com sucesso\n",
      "lido com sucesso\n",
      "lido com sucesso\n",
      "lido com sucesso\n",
      "lido com sucesso\n",
      "lido com sucesso\n",
      "lido com sucesso\n",
      "lido com sucesso\n"
     ]
    }
   ],
   "source": [
    "ExtratordeInfo2(r'C:\\Users\\jvict\\Documents\\seven\\seven\\seguenotasfiscais2quinzenadedezembropnz')"
   ]
  },
  {
   "cell_type": "code",
   "execution_count": 1,
   "metadata": {},
   "outputs": [],
   "source": [
    "from extrator_info import *"
   ]
  },
  {
   "cell_type": "code",
   "execution_count": 3,
   "metadata": {},
   "outputs": [
    {
     "name": "stdout",
     "output_type": "stream",
     "text": [
      "Não foi possível ler o arquivo NF 53 HZD6008 COLETA FRIOVIX 18 A 29.pdf\n",
      "Não foi possível ler o arquivo NF 54 HVB8D40 COLETA MOTOCICLO 18-12.pdf\n",
      "Não foi possível ler o arquivo NF 55 HVB8D40 COLETA E ENTREGA 18 A 29.pdf\n",
      "Não foi possível ler o arquivo NF 56 KFL5B26 CARRO EXTRA.pdf\n"
     ]
    }
   ],
   "source": [
    "ExtratordeInfo2(r\"C:\\Users\\jvict\\Documents\\seven\\seven\\ren_fs535455e56edvaldodesouzasilvajunior\")"
   ]
  },
  {
   "cell_type": "code",
   "execution_count": null,
   "metadata": {},
   "outputs": [],
   "source": []
  }
 ],
 "metadata": {
  "kernelspec": {
   "display_name": "Python 3",
   "language": "python",
   "name": "python3"
  },
  "language_info": {
   "codemirror_mode": {
    "name": "ipython",
    "version": 3
   },
   "file_extension": ".py",
   "mimetype": "text/x-python",
   "name": "python",
   "nbconvert_exporter": "python",
   "pygments_lexer": "ipython3",
   "version": "3.10.11"
  }
 },
 "nbformat": 4,
 "nbformat_minor": 2
}
