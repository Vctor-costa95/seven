{
 "cells": [
  {
   "cell_type": "code",
   "execution_count": 9,
   "metadata": {},
   "outputs": [],
   "source": [
    "#pastas colocadas e que funcionam:\n",
    "#seguenotasfiscais2quinzenadedezembropnz funcionando<<\n",
    "#n_f52transf_jpajabjpa (deve funcionar mas só 1 file)\n",
    "#n_fs1718jaymejosedelimajunio (deve funcionar mas só 2 file)\n",
    "#nfs_henrique_roberval_josrogrio funcionando<<\n",
    "#nfs_jarbiana não_funcionando\n",
    "#nfsref2quinzenadezembro2023 tem que ser feito com o leitor de imagem\n",
    "#ren_fs535455e56edvaldodesouzasilvajunior funcionando <<<"
   ]
  },
  {
   "cell_type": "code",
   "execution_count": 37,
   "metadata": {},
   "outputs": [],
   "source": [
    "import pdfplumber\n",
    "import os\n",
    "from os import *\n",
    "\n",
    "def leitor(dir):\n",
    "    fileExt = r\".pdf\"\n",
    "    files = os.listdir(dir)\n",
    "\n",
    "    for arq in files:\n",
    "        with pdfplumber.open(f\"{dir}/{arq}\") as pdf:\n",
    "                text = \"\"\n",
    "                for page in pdf.pages:\n",
    "                    text += page.extract_text()\n",
    "                    a = text\n",
    "                    lines = a.split('\\n')\n",
    "                    cda=False\n",
    "                    tds=False\n",
    "                    vds=False\n",
    "                    nfs=False\n",
    "                    for line in lines:\n",
    "                        if nfs == True:\n",
    "                            numero_nota= line.split(' ')[0]\n",
    "                            nfs=False\n",
    "                        if vds == True:\n",
    "                            valor_servico=line.split(' ')[0]\n",
    "                            vds=False\n",
    "                        if tds== True:\n",
    "                            cnpj_tomador = line.split(' ')[0]\n",
    "                            tds = False\n",
    "                        if cda == True:\n",
    "                            chave = line.replace(' ','')[0:44]\n",
    "                            cda=False\n",
    "                        if 'ChavedeAcessodaNFS' in line:\n",
    "                            cda=True\n",
    "                        \n",
    "                        if 'PrestadordoServiço' in line:\n",
    "                            cnpj_prestador = line.split(' ')[1]\n",
    "                        if 'TOMADORDOSERVIÇO' in line:\n",
    "                            tds=True\n",
    "                            \n",
    "                        if 'ValordoServiço' in line:\n",
    "                            vds=True\n",
    "                        if 'NúmerodaNFS' in line:\n",
    "                            nfs=True\n",
    "                    print(chave,cnpj_prestador,cnpj_tomador,valor_servico,numero_nota)\n"
   ]
  },
  {
   "cell_type": "code",
   "execution_count": 36,
   "metadata": {},
   "outputs": [
    {
     "name": "stdout",
     "output_type": "stream",
     "text": [
      "MUNICIPIODEPETROLINA 0\n",
      "DANFSev1.0 PREFEITURAMUNICIPALDEPETROLINA 0\n",
      "DocumentoAuxiliardaNFS-e (87)3861-6676 0\n",
      "tributos@petrolina.pe.gov.br 0\n",
      "ChavedeAcessodaNFS-e 0\n",
      "26111012236240873000119000000000000924018790993190 0\n",
      "NúmerodaNFS-e CompetênciadaNFS-e DataeHoradaemissãodaNFS-e 0\n",
      "9 02/01/2024 02/01/202408:34:48 0\n",
      "NúmerodaDPS SériedaDPS DataeHoradaemissãodaDPS 0\n",
      "9 900 02/01/202408:34:48 AautenticidadedestaNFS-epodeserverificada 0\n",
      "pelaleituradestecódigoQRoupelaconsultada 0\n",
      "chavedeacessonoportalnacionaldaNFS-e 0\n",
      "EMITENTEDANFS-e CNPJ/CPF/NIF InscriçãoMunicipal Telefone 0\n",
      "PrestadordoServiço 36.240.873/0001-19 - (87)9811-1647 0\n",
      "Nome/NomeEmpresarial E-mail 0\n",
      "BERNEVALDORIBEIROGOMES74792350468 NENEBENE1@HOTMAIL.COM 0\n",
      "Endereço Município CEP 0\n",
      "JADE,311 Petrolina-PE 56317-125 0\n",
      "SimplesNacionalnaDatadeCompetência RegimedeApuraçãoTributáriapeloSN 0\n",
      "Optante-MicroempreendedorIndividual(MEI) - 0\n",
      "TOMADORDOSERVIÇO CNPJ/CPF/NIF InscriçãoMunicipal Telefone 0\n",
      "10.580.938/0005-05 - - 0\n",
      "Nome/NomeEmpresarial E-mail 0\n",
      "PROGRESSOLOGISTICAETRANSPORTELTDA - 0\n",
      "Endereço Município CEP 0\n",
      "SETEDESETEMBRO,1300,SALAB Petrolina-PE 56306-610 0\n",
      "INTERMEDIÁRIODOSERVIÇONÃOIDENTIFICADONANFS-e 0\n",
      "SERVIÇOPRESTADO 0\n",
      "CódigodeTributaçãoNacional CódigodeTributaçãoMunicipal LocaldaPrestação PaísdaPrestação 0\n",
      "16.02.01-Outrosserviçosde - Petrolina-PE - 0\n",
      "transportedenaturezamunicipal. 0\n",
      "DescriçãodoServiço 0\n",
      "REFERENTEAENTREGASECOLETASDEMERCADORIASREALIZADASEMANAL. 0\n",
      "SEGUNDAQUINZENAMESDEDEZEMBRODE2023. 0\n",
      "BERNEVALDORIBEIROGOMES 0\n",
      "BANCO:BRADESCO 0\n",
      "AGENCIA:3101-1 0\n",
      "CONTACORRENTE:003024-8 0\n",
      "TRIBUTAÇÃOMUNICIPAL 0\n",
      "TributaçãodoISSQN PaísResultadodaPrestaçãodoServiço MunicípiodeIncidênciadoISSQN RegimeEspecialdeTributação 0\n",
      "OperaçãoTributável - Petrolina-PE Nenhum 0\n",
      "TipodeImunidade SuspensãodaExigibilidadedoISSQN NúmeroProcessoSuspensão BenefícioMunicipal 0\n",
      "- Não - - 0\n",
      "ValordoServiço DescontoIncondicionado TotalDeduções/Reduções CálculodoBM 0\n",
      "R$900,00 - - - 0\n",
      "BCISSQN AlíquotaAplicada RetençãodoISSQN ISSQNApurado 0\n",
      "- - NãoRetido - 0\n",
      "TRIBUTAÇÃOFEDERAL 0\n",
      "IRRF CP CSLL 0\n",
      "- - - 0\n",
      "PIS COFINS RetençãodoPIS/COFINS TOTALTRIBUTAÇÃOFEDERAL 0\n",
      "- - - - 0\n",
      "VALORTOTALDANFS-E 0\n",
      "ValordoServiço DescontoCondicionado DescontoIncondicionado ISSQNRetido 0\n",
      "R$900,00 R$ R$ - 0\n",
      "IRRF,CP,CSLL-Retidos PIS/COFINSRetidos ValorLíquidodaNFS-e 0\n",
      "R$0,00 - R$900,00 0\n",
      "TOTAISAPROXIMADOSDOSTRIBUTOS 0\n",
      "Federais Estaduais Municipais 0\n",
      "- - - 0\n",
      "INFORMAÇÕESCOMPLEMENTARES 0\n",
      "26111012236240873000119000000000000924018790 36.240.873/0001-19 10.580.938/0005-05 R$900,00 9\n"
     ]
    }
   ],
   "source": [
    "\n",
    "cont = 0\n",
    "with pdfplumber.open(r\"C:\\Users\\jvict\\Documents\\seven\\seven\\seguenotasfiscais2quinzenadedezembropnz\\BERNEVLDO SEGUND AQUINZENA DE DEZEMBRO.pdf\") as pdf:\n",
    "            text = \"\"\n",
    "            for page in pdf.pages:\n",
    "                text += page.extract_text()\n",
    "                a = text\n",
    "                lines = a.split('\\n')\n",
    "                cda=False\n",
    "                tds=False\n",
    "                vds=False\n",
    "                nfs=False\n",
    "                for line in lines:\n",
    "                    if nfs == True:\n",
    "                        numero_nota= line.split(' ')[0]\n",
    "                        nfs=False\n",
    "                    if vds == True:\n",
    "                        valor_servico=line.split(' ')[0]\n",
    "                        vds=False\n",
    "                    if tds== True:\n",
    "                        cnpj_tomador = line.split(' ')[0]\n",
    "                        tds = False\n",
    "                    if cda == True:\n",
    "                        chave = line.replace(' ','')[0:44]\n",
    "                        cda=False\n",
    "                    if 'ChavedeAcessodaNFS' in line:\n",
    "                        cda=True\n",
    "                    \n",
    "                    if 'PrestadordoServiço' in line:\n",
    "                        cnpj_prestador = line.split(' ')[1]\n",
    "                    if 'TOMADORDOSERVIÇO' in line:\n",
    "                        tds=True\n",
    "                        \n",
    "                    if 'ValordoServiço' in line:\n",
    "                        vds=True\n",
    "                        \n",
    "                    if 'NúmerodaNFS' in line:\n",
    "                        nfs=True\n",
    "                    print(line,cont)\n",
    "            print(chave,cnpj_prestador,cnpj_tomador,valor_servico,numero_nota)"
   ]
  },
  {
   "cell_type": "code",
   "execution_count": 38,
   "metadata": {},
   "outputs": [
    {
     "name": "stdout",
     "output_type": "stream",
     "text": [
      "26111012236240873000119000000000000924018790 36.240.873/0001-19 10.580.938/0005-05 R$900,00 9\n",
      "26111012252685890000116000000000000924016396 52.685.890/0001-16 10.580.938/0005-05 R$540,00 9\n",
      "26111012252685890000116000000000000824013952 52.685.890/0001-16 10.580.938/0005-05 R$2.700,00 8\n",
      "26111012252685890000116000000000000824013952 52.685.890/0001-16 10.580.938/0005-05 R$2.700,00 8\n",
      "26111012252685890000116000000000000824013952 52.685.890/0001-16 10.580.938/0005-05 R$2.700,00 8\n",
      "26111012252685890000116000000000000824013952 52.685.890/0001-16 10.580.938/0005-05 R$2.700,00 8\n",
      "26111012252685890000116000000000000824013952 52.685.890/0001-16 10.580.938/0005-05 R$2.700,00 8\n",
      "26051522207246464000121000000000002424010697 07.246.464/0001-21 10.580.938/0005-05 R$1.205,15 24\n",
      "26051522207246464000121000000000002424010697 07.246.464/0001-21 10.580.938/0005-05 R$1.205,15 24\n",
      "26051522207246464000121000000000002424010697 07.246.464/0001-21 10.580.938/0005-05 R$1.205,15 24\n",
      "26051522207246464000121000000000002424010697 07.246.464/0001-21 10.580.938/0005-05 R$1.205,15 24\n",
      "26051522207246464000121000000000002424010697 07.246.464/0001-21 10.580.938/0005-05 R$1.205,15 24\n"
     ]
    }
   ],
   "source": [
    "leitor('C:/Users/jvict/Documents/seven/seven/seguenotasfiscais2quinzenadedezembropnz')"
   ]
  },
  {
   "cell_type": "code",
   "execution_count": 39,
   "metadata": {},
   "outputs": [
    {
     "name": "stdout",
     "output_type": "stream",
     "text": [
      "25075072223159548000184000000000005224014953 23.159.548/0001-84 10.580.938/0010-72 R$2.808,00 52\n"
     ]
    }
   ],
   "source": [
    "leitor(r'C:\\Users\\jvict\\Documents\\seven\\seven\\n_f52transf_jpajabjpa')"
   ]
  },
  {
   "cell_type": "code",
   "execution_count": 40,
   "metadata": {},
   "outputs": [
    {
     "name": "stdout",
     "output_type": "stream",
     "text": [
      "26041062248923610000193000000000000324013500 48.923.610/0001-93 10.580.938/0008-58 R$2.800,00 3\n",
      "26041062248923610000193000000000000424018520 48.923.610/0001-93 10.580.938/0008-58 R$112,68 4\n",
      "26041062217200875000130000000000000524017021 17.200.875/0001-30 10.580.938/0008-58 R$305,00 5\n",
      "26041062217200875000130000000000000624019608 17.200.875/0001-30 10.580.938/0008-58 R$2.592,50 6\n",
      "26041062217200875000130000000000000724013233 17.200.875/0001-30 10.580.938/0008-58 R$200,00 7\n",
      "26041062232343325000163000000000000424014066 32.343.325/0001-63 10.580.938/0008-58 R$2.592,50 4\n",
      "26041062232343325000163000000000000524015464 32.343.325/0001-63 10.580.938/0008-58 R$152,50 5\n",
      "26041062232343325000163000000000000624019450 32.343.325/0001-63 10.580.938/0008-58 R$50,00 6\n"
     ]
    }
   ],
   "source": [
    "dir =r'C:\\Users\\jvict\\Documents\\seven\\seven\\nfs_henrique_roberval_josrogrio'\n",
    "leitor(dir)\n"
   ]
  },
  {
   "cell_type": "code",
   "execution_count": 41,
   "metadata": {},
   "outputs": [
    {
     "ename": "UnboundLocalError",
     "evalue": "local variable 'chave' referenced before assignment",
     "output_type": "error",
     "traceback": [
      "\u001b[1;31m---------------------------------------------------------------------------\u001b[0m",
      "\u001b[1;31mUnboundLocalError\u001b[0m                         Traceback (most recent call last)",
      "Cell \u001b[1;32mIn[41], line 2\u001b[0m\n\u001b[0;32m      1\u001b[0m \u001b[38;5;28mdir\u001b[39m \u001b[38;5;241m=\u001b[39m \u001b[38;5;124mr\u001b[39m\u001b[38;5;124m\"\u001b[39m\u001b[38;5;124mC:\u001b[39m\u001b[38;5;124m\\\u001b[39m\u001b[38;5;124mUsers\u001b[39m\u001b[38;5;124m\\\u001b[39m\u001b[38;5;124mjvict\u001b[39m\u001b[38;5;124m\\\u001b[39m\u001b[38;5;124mDocuments\u001b[39m\u001b[38;5;124m\\\u001b[39m\u001b[38;5;124mseven\u001b[39m\u001b[38;5;124m\\\u001b[39m\u001b[38;5;124mseven\u001b[39m\u001b[38;5;124m\\\u001b[39m\u001b[38;5;124mnfs_jarbiana\u001b[39m\u001b[38;5;124m\"\u001b[39m\n\u001b[1;32m----> 2\u001b[0m \u001b[43mleitor\u001b[49m\u001b[43m(\u001b[49m\u001b[38;5;28;43mdir\u001b[39;49m\u001b[43m)\u001b[49m\n",
      "Cell \u001b[1;32mIn[37], line 45\u001b[0m, in \u001b[0;36mleitor\u001b[1;34m(dir)\u001b[0m\n\u001b[0;32m     43\u001b[0m     \u001b[38;5;28;01mif\u001b[39;00m \u001b[38;5;124m'\u001b[39m\u001b[38;5;124mNúmerodaNFS\u001b[39m\u001b[38;5;124m'\u001b[39m \u001b[38;5;129;01min\u001b[39;00m line:\n\u001b[0;32m     44\u001b[0m         nfs\u001b[38;5;241m=\u001b[39m\u001b[38;5;28;01mTrue\u001b[39;00m\n\u001b[1;32m---> 45\u001b[0m \u001b[38;5;28mprint\u001b[39m(\u001b[43mchave\u001b[49m,cnpj_prestador,cnpj_tomador,valor_servico,numero_nota)\n",
      "\u001b[1;31mUnboundLocalError\u001b[0m: local variable 'chave' referenced before assignment"
     ]
    }
   ],
   "source": [
    "dir = r\"C:\\Users\\jvict\\Documents\\seven\\seven\\nfs_jarbiana\"\n",
    "leitor(dir)"
   ]
  },
  {
   "cell_type": "code",
   "execution_count": 42,
   "metadata": {},
   "outputs": [
    {
     "ename": "UnboundLocalError",
     "evalue": "local variable 'chave' referenced before assignment",
     "output_type": "error",
     "traceback": [
      "\u001b[1;31m---------------------------------------------------------------------------\u001b[0m",
      "\u001b[1;31mUnboundLocalError\u001b[0m                         Traceback (most recent call last)",
      "Cell \u001b[1;32mIn[42], line 1\u001b[0m\n\u001b[1;32m----> 1\u001b[0m \u001b[43mleitor\u001b[49m\u001b[43m(\u001b[49m\u001b[38;5;124;43mr\u001b[39;49m\u001b[38;5;124;43m'\u001b[39;49m\u001b[38;5;124;43mC:\u001b[39;49m\u001b[38;5;124;43m\\\u001b[39;49m\u001b[38;5;124;43mUsers\u001b[39;49m\u001b[38;5;124;43m\\\u001b[39;49m\u001b[38;5;124;43mjvict\u001b[39;49m\u001b[38;5;124;43m\\\u001b[39;49m\u001b[38;5;124;43mDocuments\u001b[39;49m\u001b[38;5;124;43m\\\u001b[39;49m\u001b[38;5;124;43mseven\u001b[39;49m\u001b[38;5;124;43m\\\u001b[39;49m\u001b[38;5;124;43mseven\u001b[39;49m\u001b[38;5;124;43m\\\u001b[39;49m\u001b[38;5;124;43mnfsref2quinzenadezembro2023\u001b[39;49m\u001b[38;5;124;43m'\u001b[39;49m\u001b[43m)\u001b[49m\n",
      "Cell \u001b[1;32mIn[37], line 45\u001b[0m, in \u001b[0;36mleitor\u001b[1;34m(dir)\u001b[0m\n\u001b[0;32m     43\u001b[0m     \u001b[38;5;28;01mif\u001b[39;00m \u001b[38;5;124m'\u001b[39m\u001b[38;5;124mNúmerodaNFS\u001b[39m\u001b[38;5;124m'\u001b[39m \u001b[38;5;129;01min\u001b[39;00m line:\n\u001b[0;32m     44\u001b[0m         nfs\u001b[38;5;241m=\u001b[39m\u001b[38;5;28;01mTrue\u001b[39;00m\n\u001b[1;32m---> 45\u001b[0m \u001b[38;5;28mprint\u001b[39m(\u001b[43mchave\u001b[49m,cnpj_prestador,cnpj_tomador,valor_servico,numero_nota)\n",
      "\u001b[1;31mUnboundLocalError\u001b[0m: local variable 'chave' referenced before assignment"
     ]
    }
   ],
   "source": [
    "leitor(r'C:\\Users\\jvict\\Documents\\seven\\seven\\nfsref2quinzenadezembro2023')"
   ]
  },
  {
   "cell_type": "code",
   "execution_count": 43,
   "metadata": {},
   "outputs": [
    {
     "name": "stdout",
     "output_type": "stream",
     "text": [
      "25075072223159548000184000000000005324017802 23.159.548/0001-84 10.580.938/0010-72 R$1.530,00 53\n",
      "25075072223159548000184000000000005424012535 23.159.548/0001-84 10.580.938/0010-72 R$100,00 54\n",
      "25075072223159548000184000000000005524010476 23.159.548/0001-84 10.580.938/0010-72 R$2.970,00 55\n",
      "25075072223159548000184000000000005624011233 23.159.548/0001-84 10.580.938/0010-72 R$330,00 56\n"
     ]
    }
   ],
   "source": [
    "leitor(r\"C:\\Users\\jvict\\Documents\\seven\\seven\\ren_fs535455e56edvaldodesouzasilvajunior\")"
   ]
  },
  {
   "cell_type": "code",
   "execution_count": null,
   "metadata": {},
   "outputs": [],
   "source": []
  }
 ],
 "metadata": {
  "kernelspec": {
   "display_name": "Python 3",
   "language": "python",
   "name": "python3"
  },
  "language_info": {
   "codemirror_mode": {
    "name": "ipython",
    "version": 3
   },
   "file_extension": ".py",
   "mimetype": "text/x-python",
   "name": "python",
   "nbconvert_exporter": "python",
   "pygments_lexer": "ipython3",
   "version": "3.10.11"
  }
 },
 "nbformat": 4,
 "nbformat_minor": 2
}
