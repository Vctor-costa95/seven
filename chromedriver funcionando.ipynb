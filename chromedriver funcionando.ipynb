{
 "cells": [
  {
   "cell_type": "code",
   "execution_count": 2,
   "metadata": {},
   "outputs": [
    {
     "name": "stdout",
     "output_type": "stream",
     "text": [
      "done\n"
     ]
    }
   ],
   "source": [
    "import undetected_chromedriver as uc\n",
    "import time\n",
    "from selenium import webdriver\n",
    "from selenium.webdriver.common.by import By\n",
    " \n",
    "options = uc.ChromeOptions()\n",
    "options.headless = False\n",
    "prefs = {\"download.default_directory\" : \"C:\\\\Users\\\\jvict\\\\Documents\\\\seven\\\\downloads_malha\"}\n",
    "options.add_experimental_option(\"prefs\",prefs)\n",
    "\n",
    "driver = uc.Chrome(options=options)\n",
    "driver.delete_all_cookies()\n",
    "driver.maximize_window()\n",
    "\n",
    "\n",
    "driver.get('https://deolhonoimposto.ibpt.org.br/')\n",
    "\n",
    "fechar_popup = driver.find_element(By.XPATH, '//*[@id=\"popupshadow\"]/div/span')\n",
    "fechar_popup.click()\n",
    "time.sleep(1)\n",
    "\n",
    "btn_entrar = driver.find_element(By.XPATH, '/html/body/header/div[2]/div/div/div/a[2]')\n",
    "btn_entrar.click()\n",
    "\n",
    "time.sleep(1)\n",
    "\n",
    "usuario = driver.find_element(By.XPATH, '//*[@id=\"Email\"]')\n",
    "usuario.send_keys('dassayev@7automacao.com.br')\n",
    "\n",
    "senha = driver.find_element(By.XPATH, '//*[@id=\"Senha\"]')\n",
    "senha.send_keys('_Senha@123')\n",
    "\n",
    "btn_entrar = driver.find_element(By.XPATH, '//*[@id=\"formLogin\"]/div[3]/button')\n",
    "btn_entrar.click()\n",
    "\n",
    "time.sleep(1)\n",
    "           \n",
    "btn_baixartabela = driver.find_element(By.XPATH, '//*[@id=\"ui-id-2\"]/div[1]/div[6]/a[2]')\n",
    "btn_baixartabela.click()\n",
    "\n",
    "time.sleep(1)\n",
    "\n",
    "finalidade = driver.find_element(By.XPATH, '/html/body/section/div[2]/div/form/div[2]')\n",
    "finalidade.click()\n",
    "\n",
    "confirmar_finalidade = driver.find_element(By.XPATH, '/html/body/section/div[2]/div/form/div[3]/input')\n",
    "confirmar_finalidade.click()\n",
    "\n",
    "time.sleep(40)\n",
    "download = driver.find_element(By.XPATH, '//*[@id=\"container-tabela-historico\"]/div/div/table/tbody/tr[1]/td[3]')\n",
    "download.click()\n",
    "\n",
    "time.sleep(20)\n",
    "\n",
    "\n",
    "print('done')"
   ]
  },
  {
   "cell_type": "code",
   "execution_count": null,
   "metadata": {},
   "outputs": [],
   "source": []
  }
 ],
 "metadata": {
  "kernelspec": {
   "display_name": "Python 3",
   "language": "python",
   "name": "python3"
  },
  "language_info": {
   "codemirror_mode": {
    "name": "ipython",
    "version": 3
   },
   "file_extension": ".py",
   "mimetype": "text/x-python",
   "name": "python",
   "nbconvert_exporter": "python",
   "pygments_lexer": "ipython3",
   "version": "3.10.11"
  }
 },
 "nbformat": 4,
 "nbformat_minor": 2
}
